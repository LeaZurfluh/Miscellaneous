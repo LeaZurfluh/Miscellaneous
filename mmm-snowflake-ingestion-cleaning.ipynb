{
 "cells": [
  {
   "cell_type": "code",
   "execution_count": null,
   "metadata": {},
   "outputs": [],
   "source": [
    "''' PREREQUISITES:\n",
    "    - Download all files to be uploaded as csvs.\n",
    "    - All columns should be in the following order: ['Channel', 'Country', 'DMA', 'Campaign', 'Quarter', 'Date', 'Impressions', 'Spend']\n",
    "    - This process doesn't work with the 'Currency' column. \n",
    "'''"
   ]
  },
  {
   "cell_type": "code",
   "execution_count": 10,
   "metadata": {},
   "outputs": [],
   "source": [
    "#  Imports \n",
    "import pandas as pd \n",
    "\n",
    "import os\n",
    "\n"
   ]
  },
  {
   "cell_type": "code",
   "execution_count": 2,
   "metadata": {},
   "outputs": [],
   "source": [
    "# This is the path of the folder where your raw files (i.e. files not cleaned yet) are.\n",
    "raw_path_files = '/Users/leazurfluh/Downloads/GCP_marketing_spend/2024_archive/'\n",
    "cleaned_path_files = raw_path_files + 'cleaned_files/' # building a new folder to store cleaned files\n",
    "\n",
    "# Suffix you want to give the files that have been refactored. Can be '' if you need to keep the same name.\n",
    "suffix = '_refactored'"
   ]
  },
  {
   "cell_type": "code",
   "execution_count": 6,
   "metadata": {},
   "outputs": [],
   "source": [
    "# Dictionary of all csvs that are going to be loaded for cleaning purposes.\n",
    "# Change the key to be the name of each file.\n",
    "\n",
    "df_dict = {\n",
    "    '2024 Meta Restated_refactored': raw_path_files,\n",
    "    'AB Updated MMM H1 2024 US Data - NYT_refactored': raw_path_files,\n",
    "    'AB Updated MMM H1 2024 US Data - Snapchat_refactored': raw_path_files,\n",
    "    'AB Updated MMM H1 2024 US Data - Vox_refactored': raw_path_files,\n",
    "    'AB Updated MMM H1 2024 US Data - YouTube via MiQ_refactored': raw_path_files,\n",
    "    'AB Updated MMM H1 2024 US Data - iHeart_refactored': raw_path_files,\n",
    "}"
   ]
  },
  {
   "cell_type": "code",
   "execution_count": 11,
   "metadata": {},
   "outputs": [],
   "source": [
    "\n",
    "def df_cleaning(df_dict):\n",
    "    \n",
    "    for key in df_dict:\n",
    "        # Load cdv as df \n",
    "        df = pd.read_csv(df_dict[key] + key + '.csv')\n",
    "\n",
    "        # Rename columns\n",
    "        df.columns = ['Channel', 'Country', 'DMA', 'Campaign', 'Quarter', 'Date', 'Impressions', 'Spend']\n",
    "\n",
    "        # Clean Date, Impressions and Spend columns\n",
    "        # WARNING column Date isn't cleaned to account for formats other than yyyy-mm-dd\n",
    "        df.Date = df.Date.astype('datetime64[ns]')\n",
    "\n",
    "        df['Spend'] = df['Spend'].astype(\"str\")\n",
    "        df['Spend'] = df['Spend'].str.replace('$', '')\n",
    "        df['Spend'] = df['Spend'].str.replace(',', '')\n",
    "        df['Spend'] = df['Spend'].str.replace('\"', '')\n",
    "        df['Spend'] = df['Spend'].str.replace(' -', '0')\n",
    "        df['Spend'] = df['Spend'].astype(\"float\")\n",
    "\n",
    "        df['Impressions'] = df['Impressions'].astype(\"str\")\n",
    "        df['Impressions'] = df['Impressions'].str.replace(',', '')\n",
    "        df['Impressions'] = df['Impressions'].str.replace('\"', '')\n",
    "        df['Impressions'] = df['Impressions'].str.replace('-', '0')\n",
    "        df['Impressions'] = df['Impressions'].str.replace('.00', '')\n",
    "        df['Impressions'] = df['Impressions'].str.replace('nan', '0')\n",
    "        df['Impressions'] = df['Impressions'].fillna('0')\n",
    "        df['Impressions'] = df['Impressions'].astype(\"float\")\n",
    "\n",
    "        # Check if destination folder exists, if not creates it:\n",
    "        if not os.path.exists(cleaned_path_files):\n",
    "            os.makedirs(cleaned_path_files)\n",
    "            print(f\"Created folder: {cleaned_path_files}\")\n",
    "\n",
    "        df.to_csv(cleaned_path_files + key + suffix + '.csv', index=False)\n",
    "        \n",
    "    return print('All done!')\n"
   ]
  },
  {
   "cell_type": "code",
   "execution_count": 12,
   "metadata": {},
   "outputs": [
    {
     "name": "stdout",
     "output_type": "stream",
     "text": [
      "Created folder: /Users/leazurfluh/Downloads/GCP_marketing_spend/2024_archive/cleaned_files/\n",
      "All done!\n"
     ]
    }
   ],
   "source": [
    "df_cleaning(df_dict)"
   ]
  }
 ],
 "metadata": {
  "kernelspec": {
   "display_name": "analytics",
   "language": "python",
   "name": "python3"
  },
  "language_info": {
   "codemirror_mode": {
    "name": "ipython",
    "version": 3
   },
   "file_extension": ".py",
   "mimetype": "text/x-python",
   "name": "python",
   "nbconvert_exporter": "python",
   "pygments_lexer": "ipython3",
   "version": "3.11.8"
  }
 },
 "nbformat": 4,
 "nbformat_minor": 2
}
